{
 "cells": [
  {
   "cell_type": "code",
   "execution_count": 98,
   "id": "72ca18f4",
   "metadata": {},
   "outputs": [],
   "source": [
    "import pandas as pd \n",
    "import numpy as np\n",
    "import matplotlib.pyplot as plt\n",
    "from datetime import datetime\n",
    "import os\n",
    "\n",
    "from opf_envs.envs.renewable_power_forecast_reader import ForecastReader"
   ]
  },
  {
   "cell_type": "code",
   "execution_count": 2,
   "id": "00b2fd70",
   "metadata": {},
   "outputs": [
    {
     "data": {
      "text/plain": [
       "'/Users/aeseye/Desktop/AGM-Resilience-Project/RL/rl_reserve_policy/rl_learning'"
      ]
     },
     "execution_count": 2,
     "metadata": {},
     "output_type": "execute_result"
    }
   ],
   "source": [
    "current_dir = os.getcwd()\n",
    "\n",
    "current_dir"
   ]
  },
  {
   "cell_type": "code",
   "execution_count": 3,
   "id": "a95f4bf6",
   "metadata": {},
   "outputs": [],
   "source": [
    "start_index = None"
   ]
  },
  {
   "cell_type": "code",
   "execution_count": 4,
   "id": "b0dd1a12",
   "metadata": {},
   "outputs": [
    {
     "data": {
      "text/plain": [
       "5488"
      ]
     },
     "execution_count": 4,
     "metadata": {},
     "output_type": "execute_result"
    }
   ],
   "source": [
    "if start_index is None:\n",
    "    # 0: Index for time 07/01 00:00\n",
    "    # 8856: Index for time 07/31 18:00\n",
    "    start_index = np.random.randint(0, 8856)\n",
    "    \n",
    "start_index "
   ]
  },
  {
   "cell_type": "code",
   "execution_count": 11,
   "id": "121ba8a6",
   "metadata": {},
   "outputs": [],
   "source": [
    "# Change the current dir to the exogenous data path\n",
    "\n",
    "renewable_power_forecast_dir = os.path.dirname(current_dir) + \"/gym_opf_env/opf_envs/envs/data/exogenous_data\"  \n",
    "\n",
    "os.chdir(renewable_power_forecast_dir)"
   ]
  },
  {
   "cell_type": "code",
   "execution_count": 13,
   "id": "019a2bf0",
   "metadata": {},
   "outputs": [],
   "source": [
    "forecast_reader = ForecastReader()\n",
    "available_datetimes = forecast_reader.available_dates()"
   ]
  },
  {
   "cell_type": "code",
   "execution_count": 25,
   "id": "c4a0c61b",
   "metadata": {},
   "outputs": [],
   "source": [
    "available_datetimes = list(available_datetimes)\n",
    "\n",
    "num_time_steps = 72\n",
    "\n",
    "available_datetimes_for_training = available_datetimes[:8856]  # 07/01 00:00 - 07/31 18:00"
   ]
  },
  {
   "cell_type": "code",
   "execution_count": 70,
   "id": "1be5a7f8",
   "metadata": {},
   "outputs": [
    {
     "data": {
      "text/plain": [
       "(Timestamp('2019-07-01 00:00:00+0000', tz='UTC'),\n",
       " Timestamp('2019-07-31 18:00:00+0000', tz='UTC'))"
      ]
     },
     "execution_count": 70,
     "metadata": {},
     "output_type": "execute_result"
    }
   ],
   "source": [
    "available_datetimes_for_training[0], available_datetimes_for_training[-1]"
   ]
  },
  {
   "cell_type": "code",
   "execution_count": 95,
   "id": "ffe66d2a",
   "metadata": {},
   "outputs": [],
   "source": [
    "forecast_reader = ForecastReader()\n",
    "renewable_power_forecast_dir = os.path.dirname(current_dir) + \"/gym_opf_env/opf_envs/envs/data/exogenous_data\"  \n",
    "\n",
    "pv_max_gen = 300\n",
    "wind_max_gen = 400\n",
    "\n",
    "forecast_horizon = 72  # 6h\n",
    "\n",
    "time_of_day_list = []"
   ]
  },
  {
   "cell_type": "code",
   "execution_count": null,
   "id": "30132285",
   "metadata": {},
   "outputs": [],
   "source": []
  },
  {
   "cell_type": "code",
   "execution_count": 92,
   "id": "f047eefc",
   "metadata": {},
   "outputs": [],
   "source": [
    "wind_power_forecasts = np.empty((0, forecast_horizon))\n",
    "pv_power_forecasts = np.empty((0, forecast_horizon))\n",
    "\n",
    "for datetime in available_datetimes_for_training[start_index: start_index+forecast_horizon]:\n",
    "    \n",
    "    renewable_power_forecast = forecast_reader.get_forecast(datetime)\n",
    "\n",
    "    wind_power_forecast = (np.array(renewable_power_forecast['wind_gen'])*wind_max_gen)[:forecast_horizon]\n",
    "    wind_power_forecasts = np.append(wind_power_forecasts, [wind_power_forecast], axis=0)\n",
    "        \n",
    "    pv_power_forecast = (np.array(renewable_power_forecast['pv_gen'])*pv_max_gen)[:forecast_horizon]\n",
    "    pv_power_forecasts = np.append(pv_power_forecasts, [pv_power_forecast], axis=0)\n",
    "    "
   ]
  },
  {
   "cell_type": "code",
   "execution_count": 93,
   "id": "f002a503",
   "metadata": {},
   "outputs": [
    {
     "data": {
      "text/plain": [
       "(72, 72)"
      ]
     },
     "execution_count": 93,
     "metadata": {},
     "output_type": "execute_result"
    }
   ],
   "source": [
    "wind_power_forecasts.shape"
   ]
  },
  {
   "cell_type": "code",
   "execution_count": 86,
   "id": "87685524",
   "metadata": {},
   "outputs": [
    {
     "data": {
      "text/plain": [
       "8856"
      ]
     },
     "execution_count": 86,
     "metadata": {},
     "output_type": "execute_result"
    }
   ],
   "source": [
    "31*288 - 72"
   ]
  },
  {
   "cell_type": "code",
   "execution_count": 94,
   "id": "57dc198c",
   "metadata": {},
   "outputs": [
    {
     "data": {
      "text/plain": [
       "Timestamp('2019-07-20 01:20:00+0000', tz='UTC')"
      ]
     },
     "execution_count": 94,
     "metadata": {},
     "output_type": "execute_result"
    }
   ],
   "source": [
    "available_datetimes_for_training[start_index]\n"
   ]
  },
  {
   "cell_type": "code",
   "execution_count": null,
   "id": "9703e71e",
   "metadata": {},
   "outputs": [],
   "source": [
    "def get_6h_renewable_power_forecast(start_index):\n",
    "    # Use future 6-hour forecasts as RL inputs.\n",
    "        \n",
    "    os.chdir(renewable_power_forecast_dir)\n",
    "    \n",
    "    available_datetimes = forecast_reader.available_dates()    \n",
    "    available_datetimes = list(available_datetimes)\n",
    "    available_datetimes_for_training = available_datetimes[:8856]   # 07/01 00:00 - 07/31 18:00\n",
    "    \n",
    "    for datetime in available_datetimes_for_training[start_index: start_index+forecast_horizon]:\n",
    "    \n",
    "        renewable_power_forecast = forecast_reader.get_forecast(datetime)\n",
    "\n",
    "        wind_power_forecast = (np.array(renewable_power_forecast['wind_gen'])*wind_max_gen)[:forecast_horizon]\n",
    "        wind_power_forecasts = np.append(wind_power_forecasts, [wind_power_forecast], axis=0)\n",
    "\n",
    "        pv_power_forecast = (np.array(renewable_power_forecast['pv_gen'])*pv_max_gen)[:forecast_horizon]\n",
    "        pv_power_forecasts = np.append(pv_power_forecasts, [pv_power_forecast], axis=0)\n",
    "   \n",
    "    step_time = available_datetimes_for_training[start_index]\n",
    "    for _ in range(CONTROL_HORIZON_LEN):\n",
    "        self.time_of_day_list.append(step_time)\n",
    "        step_time += pd.Timedelta('5M')"
   ]
  },
  {
   "cell_type": "code",
   "execution_count": 96,
   "id": "a3d1274d",
   "metadata": {},
   "outputs": [
    {
     "name": "stderr",
     "output_type": "stream",
     "text": [
      "/Users/aeseye/opt/anaconda3/envs/rl_reserve_policy/lib/python3.7/site-packages/IPython/core/interactiveshell.py:3441: FutureWarning: Units 'M', 'Y' and 'y' do not represent unambiguous timedelta values and will be removed in a future version\n",
      "  exec(code_obj, self.user_global_ns, self.user_ns)\n"
     ]
    }
   ],
   "source": [
    "step_time = available_datetimes_for_training[start_index]\n",
    "for _ in range(72):\n",
    "    time_of_day_list.append(step_time)\n",
    "    step_time += pd.Timedelta('5M')"
   ]
  },
  {
   "cell_type": "code",
   "execution_count": 97,
   "id": "3ad078ee",
   "metadata": {},
   "outputs": [
    {
     "data": {
      "text/plain": [
       "[Timestamp('2019-07-20 01:20:00+0000', tz='UTC'),\n",
       " Timestamp('2019-07-20 01:25:00+0000', tz='UTC'),\n",
       " Timestamp('2019-07-20 01:30:00+0000', tz='UTC'),\n",
       " Timestamp('2019-07-20 01:35:00+0000', tz='UTC'),\n",
       " Timestamp('2019-07-20 01:40:00+0000', tz='UTC'),\n",
       " Timestamp('2019-07-20 01:45:00+0000', tz='UTC'),\n",
       " Timestamp('2019-07-20 01:50:00+0000', tz='UTC'),\n",
       " Timestamp('2019-07-20 01:55:00+0000', tz='UTC'),\n",
       " Timestamp('2019-07-20 02:00:00+0000', tz='UTC'),\n",
       " Timestamp('2019-07-20 02:05:00+0000', tz='UTC'),\n",
       " Timestamp('2019-07-20 02:10:00+0000', tz='UTC'),\n",
       " Timestamp('2019-07-20 02:15:00+0000', tz='UTC'),\n",
       " Timestamp('2019-07-20 02:20:00+0000', tz='UTC'),\n",
       " Timestamp('2019-07-20 02:25:00+0000', tz='UTC'),\n",
       " Timestamp('2019-07-20 02:30:00+0000', tz='UTC'),\n",
       " Timestamp('2019-07-20 02:35:00+0000', tz='UTC'),\n",
       " Timestamp('2019-07-20 02:40:00+0000', tz='UTC'),\n",
       " Timestamp('2019-07-20 02:45:00+0000', tz='UTC'),\n",
       " Timestamp('2019-07-20 02:50:00+0000', tz='UTC'),\n",
       " Timestamp('2019-07-20 02:55:00+0000', tz='UTC'),\n",
       " Timestamp('2019-07-20 03:00:00+0000', tz='UTC'),\n",
       " Timestamp('2019-07-20 03:05:00+0000', tz='UTC'),\n",
       " Timestamp('2019-07-20 03:10:00+0000', tz='UTC'),\n",
       " Timestamp('2019-07-20 03:15:00+0000', tz='UTC'),\n",
       " Timestamp('2019-07-20 03:20:00+0000', tz='UTC'),\n",
       " Timestamp('2019-07-20 03:25:00+0000', tz='UTC'),\n",
       " Timestamp('2019-07-20 03:30:00+0000', tz='UTC'),\n",
       " Timestamp('2019-07-20 03:35:00+0000', tz='UTC'),\n",
       " Timestamp('2019-07-20 03:40:00+0000', tz='UTC'),\n",
       " Timestamp('2019-07-20 03:45:00+0000', tz='UTC'),\n",
       " Timestamp('2019-07-20 03:50:00+0000', tz='UTC'),\n",
       " Timestamp('2019-07-20 03:55:00+0000', tz='UTC'),\n",
       " Timestamp('2019-07-20 04:00:00+0000', tz='UTC'),\n",
       " Timestamp('2019-07-20 04:05:00+0000', tz='UTC'),\n",
       " Timestamp('2019-07-20 04:10:00+0000', tz='UTC'),\n",
       " Timestamp('2019-07-20 04:15:00+0000', tz='UTC'),\n",
       " Timestamp('2019-07-20 04:20:00+0000', tz='UTC'),\n",
       " Timestamp('2019-07-20 04:25:00+0000', tz='UTC'),\n",
       " Timestamp('2019-07-20 04:30:00+0000', tz='UTC'),\n",
       " Timestamp('2019-07-20 04:35:00+0000', tz='UTC'),\n",
       " Timestamp('2019-07-20 04:40:00+0000', tz='UTC'),\n",
       " Timestamp('2019-07-20 04:45:00+0000', tz='UTC'),\n",
       " Timestamp('2019-07-20 04:50:00+0000', tz='UTC'),\n",
       " Timestamp('2019-07-20 04:55:00+0000', tz='UTC'),\n",
       " Timestamp('2019-07-20 05:00:00+0000', tz='UTC'),\n",
       " Timestamp('2019-07-20 05:05:00+0000', tz='UTC'),\n",
       " Timestamp('2019-07-20 05:10:00+0000', tz='UTC'),\n",
       " Timestamp('2019-07-20 05:15:00+0000', tz='UTC'),\n",
       " Timestamp('2019-07-20 05:20:00+0000', tz='UTC'),\n",
       " Timestamp('2019-07-20 05:25:00+0000', tz='UTC'),\n",
       " Timestamp('2019-07-20 05:30:00+0000', tz='UTC'),\n",
       " Timestamp('2019-07-20 05:35:00+0000', tz='UTC'),\n",
       " Timestamp('2019-07-20 05:40:00+0000', tz='UTC'),\n",
       " Timestamp('2019-07-20 05:45:00+0000', tz='UTC'),\n",
       " Timestamp('2019-07-20 05:50:00+0000', tz='UTC'),\n",
       " Timestamp('2019-07-20 05:55:00+0000', tz='UTC'),\n",
       " Timestamp('2019-07-20 06:00:00+0000', tz='UTC'),\n",
       " Timestamp('2019-07-20 06:05:00+0000', tz='UTC'),\n",
       " Timestamp('2019-07-20 06:10:00+0000', tz='UTC'),\n",
       " Timestamp('2019-07-20 06:15:00+0000', tz='UTC'),\n",
       " Timestamp('2019-07-20 06:20:00+0000', tz='UTC'),\n",
       " Timestamp('2019-07-20 06:25:00+0000', tz='UTC'),\n",
       " Timestamp('2019-07-20 06:30:00+0000', tz='UTC'),\n",
       " Timestamp('2019-07-20 06:35:00+0000', tz='UTC'),\n",
       " Timestamp('2019-07-20 06:40:00+0000', tz='UTC'),\n",
       " Timestamp('2019-07-20 06:45:00+0000', tz='UTC'),\n",
       " Timestamp('2019-07-20 06:50:00+0000', tz='UTC'),\n",
       " Timestamp('2019-07-20 06:55:00+0000', tz='UTC'),\n",
       " Timestamp('2019-07-20 07:00:00+0000', tz='UTC'),\n",
       " Timestamp('2019-07-20 07:05:00+0000', tz='UTC'),\n",
       " Timestamp('2019-07-20 07:10:00+0000', tz='UTC'),\n",
       " Timestamp('2019-07-20 07:15:00+0000', tz='UTC')]"
      ]
     },
     "execution_count": 97,
     "metadata": {},
     "output_type": "execute_result"
    }
   ],
   "source": [
    "time_of_day_list"
   ]
  },
  {
   "cell_type": "code",
   "execution_count": null,
   "id": "bfe06410",
   "metadata": {},
   "outputs": [],
   "source": []
  },
  {
   "cell_type": "code",
   "execution_count": null,
   "id": "b2501552",
   "metadata": {},
   "outputs": [],
   "source": []
  },
  {
   "cell_type": "code",
   "execution_count": null,
   "id": "406b600a",
   "metadata": {},
   "outputs": [],
   "source": []
  },
  {
   "cell_type": "code",
   "execution_count": null,
   "id": "06f2e715",
   "metadata": {},
   "outputs": [],
   "source": []
  },
  {
   "cell_type": "code",
   "execution_count": null,
   "id": "2f6cf641",
   "metadata": {},
   "outputs": [],
   "source": []
  },
  {
   "cell_type": "code",
   "execution_count": null,
   "id": "fe0b492a",
   "metadata": {},
   "outputs": [],
   "source": []
  }
 ],
 "metadata": {
  "kernelspec": {
   "display_name": "Python 3",
   "language": "python",
   "name": "python3"
  },
  "language_info": {
   "codemirror_mode": {
    "name": "ipython",
    "version": 3
   },
   "file_extension": ".py",
   "mimetype": "text/x-python",
   "name": "python",
   "nbconvert_exporter": "python",
   "pygments_lexer": "ipython3",
   "version": "3.7.11"
  }
 },
 "nbformat": 4,
 "nbformat_minor": 5
}
