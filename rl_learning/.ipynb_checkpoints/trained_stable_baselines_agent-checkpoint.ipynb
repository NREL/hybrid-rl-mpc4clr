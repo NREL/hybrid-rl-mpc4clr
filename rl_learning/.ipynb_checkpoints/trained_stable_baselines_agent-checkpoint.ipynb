{
 "cells": [
  {
   "cell_type": "code",
   "execution_count": 1,
   "id": "624af4ce",
   "metadata": {},
   "outputs": [],
   "source": [
    "## Imports\n",
    "\n",
    "import os\n",
    "import numpy as np\n",
    "import gym\n",
    "import time\n",
    "from pyutilib.misc.timing import TicTocTimer\n",
    "\n",
    "from stable_baselines3 import PPO\n",
    "from stable_baselines3.ppo.policies import MlpPolicy\n",
    "from stable_baselines3.common.evaluation import evaluate_policy\n",
    "from stable_baselines3.common.vec_env import DummyVecEnv\n",
    "from stable_baselines3.common.env_checker import check_env\n",
    "from stable_baselines3.common.env_util import make_vec_env\n",
    "\n",
    "from opf_envs.envs.gym_reserve_policy import ReservePolicyEnv"
   ]
  },
  {
   "cell_type": "code",
   "execution_count": 2,
   "id": "68412313",
   "metadata": {},
   "outputs": [
    {
     "name": "stdout",
     "output_type": "stream",
     "text": [
      "Observation Space: Box([ 0.   0.   0.   0.   0.   0.   0.   0.   0.   0.   0.   0.   0.   0.\n",
      "  0.   0.   0.   0.   0.   0.   0.   0.   0.   0.   0.   0.   0.   0.\n",
      "  0.   0.   0.   0.   0.   0.   0.   0.   0.   0.   0.   0.   0.   0.\n",
      "  0.2  0.   0.  -1.  -1. ], [1. 1. 1. 1. 1. 1. 1. 1. 1. 1. 1. 1. 1. 1. 1. 1. 1. 1. 1. 1. 1. 1. 1. 1.\n",
      " 1. 1. 1. 1. 1. 1. 1. 1. 1. 1. 1. 1. 1. 1. 1. 1. 1. 1. 1. 1. 1. 1. 1.], (47,), float64)\n",
      "Action Space: Box([-1. -1.], [1. 1.], (2,), float32)\n",
      "Action Space Sample: [ 0.89863557 -0.9067771 ]\n"
     ]
    },
    {
     "name": "stderr",
     "output_type": "stream",
     "text": [
      "/Users/aeseye/opt/anaconda3/envs/rl_reserve_policy/lib/python3.7/site-packages/gym/logger.py:34: UserWarning: \u001b[33mWARN: Box bound precision lowered by casting to float32\u001b[0m\n",
      "  warnings.warn(colorize(\"%s: %s\" % (\"WARN\", msg % args), \"yellow\"))\n",
      "/Users/aeseye/Desktop/AGM-Resilience-Project/RL/rl_reserve_policy/gym_opf_env/opf_envs/envs/gym_reserve_policy.py:131: FutureWarning: Units 'M', 'Y' and 'y' do not represent unambiguous timedelta values and will be removed in a future version\n",
      "  self.get_renewable_power_forecast(start_index)\n"
     ]
    }
   ],
   "source": [
    "# Instantiate the env\n",
    "\n",
    "env = ReservePolicyEnv()\n",
    "\n",
    "obs = env.reset()\n",
    "\n",
    "print(\"Observation Space:\", env.observation_space)\n",
    "print(\"Action Space:\", env.action_space)\n",
    "print(\"Action Space Sample:\", env.action_space.sample())"
   ]
  },
  {
   "cell_type": "code",
   "execution_count": null,
   "id": "ab3f18ef",
   "metadata": {},
   "outputs": [],
   "source": [
    "## Evaluate the un-trained agent - a random agent before training\n",
    "\n",
    "#model = PPO(MlpPolicy, env, verbose=0)\n",
    "#mean_reward, std_reward = evaluate_policy(model, env, n_eval_episodes=10)\n",
    "#print(f\"mean_reward:{mean_reward:.2f} +/- {std_reward:.2f}\")"
   ]
  },
  {
   "cell_type": "code",
   "execution_count": null,
   "id": "28a7f046",
   "metadata": {},
   "outputs": [],
   "source": [
    "## Try it with Stable-Baselines\n",
    "    # Once your environment follow the gym interface, \n",
    "    # it is quite easy to plug in any algorithm from stable-baselines"
   ]
  },
  {
   "cell_type": "code",
   "execution_count": 3,
   "id": "ebf814d6",
   "metadata": {},
   "outputs": [],
   "source": [
    "# wrap the env\n",
    "env = make_vec_env(lambda: env, n_envs=1)"
   ]
  },
  {
   "cell_type": "code",
   "execution_count": 21,
   "id": "135d41a2",
   "metadata": {},
   "outputs": [],
   "source": [
    "# Model\n",
    "model = PPO(MlpPolicy, env, verbose=0)"
   ]
  },
  {
   "cell_type": "code",
   "execution_count": 22,
   "id": "f22c50f5",
   "metadata": {},
   "outputs": [
    {
     "data": {
      "text/plain": [
       "array([ 0.27002336,  0.53464121,  0.71670283,  0.96500042,  0.28802977,\n",
       "        0.7542606 ,  0.07499444,  0.60000944,  0.76780478,  0.5641589 ,\n",
       "        0.52211485,  0.54612092,  0.52478639,  0.13260246,  0.56459458,\n",
       "        0.24030813,  0.10305429,  0.3446764 ,  0.68612639,  0.39179336,\n",
       "        0.33361263,  0.72280164,  0.55961825,  0.73394016,  0.58693188,\n",
       "        0.6403346 ,  0.60828119,  0.94426973,  0.78332089,  0.66117804,\n",
       "        0.63649535,  0.53957248,  0.31134519,  0.74798125,  0.52534701,\n",
       "        0.38370408,  0.72612415,  0.91410824,  0.35528106,  0.45768262,\n",
       "        0.89872575,  0.44138217,  0.53570628,  0.37194178,  0.39910592,\n",
       "       -0.51761469,  0.19248369])"
      ]
     },
     "execution_count": 22,
     "metadata": {},
     "output_type": "execute_result"
    }
   ],
   "source": [
    "# sample an observation from the environment\n",
    "obs = model.env.observation_space.sample()\n",
    "obs"
   ]
  },
  {
   "cell_type": "code",
   "execution_count": 23,
   "id": "6379d78a",
   "metadata": {},
   "outputs": [],
   "source": [
    "current_dir = os.getcwd()\n",
    "save_dir = current_dir+\"/tmp/gym/\""
   ]
  },
  {
   "cell_type": "code",
   "execution_count": 24,
   "id": "b87adc4a",
   "metadata": {},
   "outputs": [],
   "source": [
    "# Load the trained model\n",
    "loaded_model = PPO.load(save_dir + \"/PPO_reserve\")"
   ]
  },
  {
   "cell_type": "code",
   "execution_count": 26,
   "id": "78703eb6",
   "metadata": {},
   "outputs": [
    {
     "name": "stdout",
     "output_type": "stream",
     "text": [
      "loaded (array([ 0.00242159, -0.05818586], dtype=float32), None)\n"
     ]
    }
   ],
   "source": [
    "# Check that the prediction is the same after loading (for the same observation)\n",
    "print(\"loaded\", loaded_model.predict(obs, deterministic=True))"
   ]
  },
  {
   "cell_type": "code",
   "execution_count": null,
   "id": "64bab7d9",
   "metadata": {},
   "outputs": [],
   "source": []
  }
 ],
 "metadata": {
  "kernelspec": {
   "display_name": "Python 3",
   "language": "python",
   "name": "python3"
  },
  "language_info": {
   "codemirror_mode": {
    "name": "ipython",
    "version": 3
   },
   "file_extension": ".py",
   "mimetype": "text/x-python",
   "name": "python",
   "nbconvert_exporter": "python",
   "pygments_lexer": "ipython3",
   "version": "3.7.11"
  }
 },
 "nbformat": 4,
 "nbformat_minor": 5
}
