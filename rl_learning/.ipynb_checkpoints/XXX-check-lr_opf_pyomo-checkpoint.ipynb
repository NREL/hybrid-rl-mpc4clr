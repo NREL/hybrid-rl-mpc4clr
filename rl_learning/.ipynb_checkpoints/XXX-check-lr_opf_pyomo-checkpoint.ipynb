{
 "cells": [
  {
   "cell_type": "code",
   "execution_count": 1,
   "id": "00da440f",
   "metadata": {},
   "outputs": [],
   "source": [
    "import numpy as np\n",
    "import pandas as pd\n",
    "import matplotlib.pyplot as plt\n",
    "import os\n",
    "import json\n",
    "import pyomo.environ as pyo"
   ]
  },
  {
   "cell_type": "code",
   "execution_count": 2,
   "id": "c394ec69",
   "metadata": {},
   "outputs": [],
   "source": [
    "from opf_envs.envs.lr_opf_pyomo import OPFPyomo"
   ]
  },
  {
   "cell_type": "code",
   "execution_count": 3,
   "id": "5d780c2b",
   "metadata": {},
   "outputs": [],
   "source": [
    "opf = OPFPyomo()"
   ]
  },
  {
   "cell_type": "code",
   "execution_count": 4,
   "id": "e4d1b8e9",
   "metadata": {},
   "outputs": [
    {
     "name": "stdout",
     "output_type": "stream",
     "text": [
      "/Users/aeseye/Desktop/AGM-Resilience-Project/RL/rl_reserve_policy/rl_learning\n"
     ]
    }
   ],
   "source": [
    "cur_dir = os.getcwd()\n",
    "print(cur_dir)"
   ]
  },
  {
   "cell_type": "code",
   "execution_count": 5,
   "id": "c9f18732",
   "metadata": {
    "scrolled": true
   },
   "outputs": [
    {
     "name": "stderr",
     "output_type": "stream",
     "text": [
      "/Users/aeseye/opt/anaconda3/envs/rl_reserve_policy/lib/python3.7/site-packages/IPython/core/interactiveshell.py:3441: FutureWarning: Units 'M', 'Y' and 'y' do not represent unambiguous timedelta values and will be removed in a future version\n",
      "  exec(code_obj, self.user_global_ns, self.user_ns)\n"
     ]
    }
   ],
   "source": [
    "## obtain_renewable_profile_forecast\n",
    "\n",
    "PSEUDO_FORECASTS_DIR = '/Users/aeseye/Desktop/AGM-Resilience-Project/RL/rl_reserve_policy/gym_opf_env/opf_envs/envs/data/exogenous_data/pfg_data/json_data'\n",
    "\n",
    "pv_max_gen = 300\n",
    "wind_max_gen = 400\n",
    "\n",
    "#start_index = 0   # Index for time 07/01 00:00\n",
    "start_idx = 8552\n",
    "\n",
    "error_level = 0.1\n",
    "\n",
    "CONTROL_HORIZON_LEN = 72\n",
    "\n",
    "time_of_day_list = []\n",
    "\n",
    "# Use future 1-hour forecasts as RL inputs.\n",
    "\n",
    "# Select which folder to read in pseudo forecasts.\n",
    "percentage_error_level = str(int(error_level * 100))  # 0.15 -> 15\n",
    "\n",
    "# If perfect forecast, the actuals can be read in from any folder. renewable_pseudo_forecasts will be read in,\n",
    "# but not be used later in self.get_state_forecast.\n",
    "\n",
    "percentage_error_level = '10' if percentage_error_level == '0' else percentage_error_level\n",
    "\n",
    "with open(os.path.join(PSEUDO_FORECASTS_DIR,\n",
    "                       percentage_error_level + 'p/forecasts_' + str(start_idx) + '.json'), 'r') as fp:\n",
    "    \n",
    "    episode_renewable_data = json.load(fp)\n",
    "    \n",
    "wt_profile = np.array(episode_renewable_data['actuals']['wind']) * wind_max_gen\n",
    "pv_profile = np.array(episode_renewable_data['actuals']['pv']) * pv_max_gen\n",
    "renewable_pseudo_forecasts = episode_renewable_data['forecasts']\n",
    "\n",
    "step_time = pd.to_datetime(episode_renewable_data['time'])\n",
    "for _ in range(CONTROL_HORIZON_LEN):\n",
    "    time_of_day_list.append(step_time)\n",
    "    step_time += pd.Timedelta('5M')"
   ]
  },
  {
   "cell_type": "code",
   "execution_count": 13,
   "id": "c60ad426",
   "metadata": {},
   "outputs": [],
   "source": [
    "Zbase = 1\n",
    "Vbase = 4160\n",
    "Sbase = (Vbase**2)/Zbase\n",
    "w_to_kw_conv = 1000\n",
    "\n",
    "num_bus = 13\n",
    "control_horizon = 12\n",
    "\n",
    "load_bus = [1, 2, 4, 5, 6, 8, 9, 10, 11]\n",
    "\n",
    "prior_active_restored_load = [0] * num_bus \n",
    "prior_reactive_restored_load = [0] * num_bus \n",
    "\n",
    "rl_p = [114.99999999999709, 85.0000000000001, 49.749999999999986, 198.76338620014795, 85.0000000000001, 0.0, 0.0, 0.0, 0.0]\n",
    "rl_q = [65.99999999999991, 51.99999999999996, 28.999999999999922, 114.2889470650847, 40.00000000000002, 0.0, 0.0, 0.0, 0.0]\n",
    "for idx, b in enumerate(load_bus):\n",
    "    prior_active_restored_load[b] = rl_p[idx]\n",
    "    prior_reactive_restored_load[b] = rl_q[idx]\n",
    "\n",
    "fuel_reserve = 0.0\n",
    "soc_reserve = 20.0\n",
    "#prior_active_restored_load = [0] * num_bus\n",
    "#prior_reactive_restored_load = [0] * num_bus\n",
    "mt_remaining_fuel = 173.7714929117672\n",
    "es_prior_soc = 67.60253217027629\n",
    "\n",
    "simulation_step = 27\n",
    "\n",
    "solar_power_forecast = \\\n",
    "    list(np.array(renewable_pseudo_forecasts[str(simulation_step)]['pv'][:control_horizon])*pv_max_gen*w_to_kw_conv/Sbase)\n",
    "wind_power_forecast = \\\n",
    "    list(np.array(renewable_pseudo_forecasts[str(simulation_step)]['wind'][:control_horizon])*wind_max_gen*w_to_kw_conv/Sbase)\n",
    "        "
   ]
  },
  {
   "cell_type": "code",
   "execution_count": 14,
   "id": "54f61721",
   "metadata": {},
   "outputs": [
    {
     "data": {
      "text/plain": [
       "[0.0, 0.0, 0.0, 0.0, 0.0, 0.0, 0.0, 0.0, 0.0, 0.0, 0.0, 0.0]"
      ]
     },
     "execution_count": 14,
     "metadata": {},
     "output_type": "execute_result"
    }
   ],
   "source": [
    "solar_power_forecast"
   ]
  },
  {
   "cell_type": "code",
   "execution_count": 15,
   "id": "8a25c0ca",
   "metadata": {},
   "outputs": [
    {
     "data": {
      "text/plain": [
       "[0.021647616956360947,\n",
       " 0.021680372996893217,\n",
       " 0.021684742636444015,\n",
       " 0.0220735649316389,\n",
       " 0.02183460043245272,\n",
       " 0.02237334754577117,\n",
       " 0.022123985097790892,\n",
       " 0.020842405416544505,\n",
       " 0.02023476655248871,\n",
       " 0.020709482303364973,\n",
       " 0.020950160184328968,\n",
       " 0.02152514662179889]"
      ]
     },
     "execution_count": 15,
     "metadata": {},
     "output_type": "execute_result"
    }
   ],
   "source": [
    "wind_power_forecast"
   ]
  },
  {
   "cell_type": "code",
   "execution_count": 16,
   "id": "f2442d19",
   "metadata": {},
   "outputs": [
    {
     "data": {
      "text/plain": [
       "[0,\n",
       " 114.99999999999709,\n",
       " 85.0000000000001,\n",
       " 0,\n",
       " 49.749999999999986,\n",
       " 198.76338620014795,\n",
       " 85.0000000000001,\n",
       " 0,\n",
       " 0.0,\n",
       " 0.0,\n",
       " 0.0,\n",
       " 0.0,\n",
       " 0]"
      ]
     },
     "execution_count": 16,
     "metadata": {},
     "output_type": "execute_result"
    }
   ],
   "source": [
    "prior_active_restored_load"
   ]
  },
  {
   "cell_type": "code",
   "execution_count": 17,
   "id": "e45695ba",
   "metadata": {},
   "outputs": [],
   "source": [
    "model = opf.build_load_restoration_model(control_horizon, fuel_reserve, soc_reserve, prior_active_restored_load, \\\n",
    "                                           prior_reactive_restored_load, mt_remaining_fuel, es_prior_soc, \\\n",
    "                                           wind_power_forecast, solar_power_forecast)"
   ]
  },
  {
   "cell_type": "code",
   "execution_count": 18,
   "id": "b2bdeff8",
   "metadata": {},
   "outputs": [],
   "source": [
    "solver = 'glpk' "
   ]
  },
  {
   "cell_type": "code",
   "execution_count": 19,
   "id": "87076a43",
   "metadata": {},
   "outputs": [],
   "source": [
    "opf_solution = opf.compute_solution(model, solver, solver_tee=False, solver_options=None)"
   ]
  },
  {
   "cell_type": "code",
   "execution_count": 20,
   "id": "169357d5",
   "metadata": {},
   "outputs": [],
   "source": [
    "opf_converged, P_restored, Pmt, Pes, Pwtb, Pwt_cut, Ppvs, Ppv_cut, \\\n",
    "Q_restored, Qmt, Qes, SOC_es, voltages = opf_solution"
   ]
  },
  {
   "cell_type": "code",
   "execution_count": 21,
   "id": "e4a4a799",
   "metadata": {},
   "outputs": [
    {
     "data": {
      "text/plain": [
       "True"
      ]
     },
     "execution_count": 21,
     "metadata": {},
     "output_type": "execute_result"
    }
   ],
   "source": [
    "opf_converged"
   ]
  },
  {
   "cell_type": "code",
   "execution_count": 22,
   "id": "e02c3b91",
   "metadata": {},
   "outputs": [
    {
     "data": {
      "text/plain": [
       "array([[115.        , 115.        , 115.        , 115.        ,\n",
       "        115.        , 115.        , 115.        , 115.        ,\n",
       "        115.        , 115.        , 115.        , 115.        ],\n",
       "       [ 85.        ,  85.        ,  85.        ,  85.        ,\n",
       "         85.        ,  85.        ,  85.        ,  85.        ,\n",
       "         85.        ,  85.        ,  85.        ,  85.        ],\n",
       "       [ 49.75      ,  49.75      ,  49.75      ,  49.75      ,\n",
       "         49.75      ,  49.75      ,  49.75      ,  49.75      ,\n",
       "         49.75      ,  49.75      ,  49.75      ,  49.75      ],\n",
       "       [162.31064293, 162.31064293, 162.31064293, 162.31064293,\n",
       "        162.31064293, 162.31064293, 162.31064293, 162.31064293,\n",
       "        162.31064293, 162.31064293, 162.31064293, 162.31064293],\n",
       "       [ 85.        ,  85.        ,  85.        ,  85.        ,\n",
       "         85.        ,  85.        ,  85.        ,  85.        ,\n",
       "         85.        ,  85.        ,  85.        ,  85.        ],\n",
       "       [  0.        ,   0.        ,   0.        ,   0.        ,\n",
       "          0.        ,   0.        ,   0.        ,   0.        ,\n",
       "          0.        ,   0.        ,   0.        ,   0.        ],\n",
       "       [  0.        ,   0.        ,   0.        ,   0.        ,\n",
       "          0.        ,   0.        ,   0.        ,   0.        ,\n",
       "          0.        ,   0.        ,   0.        ,   0.        ],\n",
       "       [  0.        ,   0.        ,   0.        ,   0.        ,\n",
       "          0.        ,   0.        ,   0.        ,   0.        ,\n",
       "          0.        ,   0.        ,   0.        ,   0.        ],\n",
       "       [  0.        ,   0.        ,   0.        ,   0.        ,\n",
       "          0.        ,   0.        ,   0.        ,   0.        ,\n",
       "          0.        ,   0.        ,   0.        ,   0.        ]])"
      ]
     },
     "execution_count": 22,
     "metadata": {},
     "output_type": "execute_result"
    }
   ],
   "source": [
    "P_restored"
   ]
  },
  {
   "cell_type": "code",
   "execution_count": 27,
   "id": "3e597384",
   "metadata": {},
   "outputs": [
    {
     "data": {
      "text/plain": [
       "array([115.        ,  85.        ,  49.75      , 162.31064293,\n",
       "        85.        ,   0.        ,   0.        ,   0.        ,\n",
       "         0.        ])"
      ]
     },
     "execution_count": 27,
     "metadata": {},
     "output_type": "execute_result"
    }
   ],
   "source": [
    "P_restored[:,0]  "
   ]
  },
  {
   "cell_type": "code",
   "execution_count": 28,
   "id": "f4f886f5",
   "metadata": {},
   "outputs": [
    {
     "data": {
      "text/plain": [
       "[114.99999999999709,\n",
       " 85.0000000000001,\n",
       " 49.749999999999986,\n",
       " 198.76338620014795,\n",
       " 85.0000000000001,\n",
       " 0.0,\n",
       " 0.0,\n",
       " 0.0,\n",
       " 0.0]"
      ]
     },
     "execution_count": 28,
     "metadata": {},
     "output_type": "execute_result"
    }
   ],
   "source": [
    "prior_restored_load = rl_p\n",
    "prior_restored_load"
   ]
  },
  {
   "cell_type": "code",
   "execution_count": null,
   "id": "d263490d",
   "metadata": {},
   "outputs": [],
   "source": []
  },
  {
   "cell_type": "code",
   "execution_count": null,
   "id": "e6bd032d",
   "metadata": {},
   "outputs": [],
   "source": [
    "XXX"
   ]
  },
  {
   "cell_type": "code",
   "execution_count": null,
   "id": "d9b49894",
   "metadata": {},
   "outputs": [],
   "source": [
    "mt_p"
   ]
  },
  {
   "cell_type": "code",
   "execution_count": null,
   "id": "19a0622b",
   "metadata": {},
   "outputs": [],
   "source": [
    "Pmt = list(mt_p.values())[0]\n",
    "Pmt"
   ]
  },
  {
   "cell_type": "code",
   "execution_count": null,
   "id": "f1a9f610",
   "metadata": {},
   "outputs": [],
   "source": [
    "Pmt[0]"
   ]
  },
  {
   "cell_type": "code",
   "execution_count": null,
   "id": "c86456f9",
   "metadata": {},
   "outputs": [],
   "source": [
    "wt_p"
   ]
  },
  {
   "cell_type": "code",
   "execution_count": null,
   "id": "30de3878",
   "metadata": {},
   "outputs": [],
   "source": [
    "Pwtb = list(wt_p.values())[0]\n",
    "Pwtb "
   ]
  },
  {
   "cell_type": "code",
   "execution_count": null,
   "id": "ddc56a8d",
   "metadata": {},
   "outputs": [],
   "source": [
    "wt_pc"
   ]
  },
  {
   "cell_type": "code",
   "execution_count": null,
   "id": "f61ff7da",
   "metadata": {},
   "outputs": [],
   "source": [
    "pv_p"
   ]
  },
  {
   "cell_type": "code",
   "execution_count": null,
   "id": "0f05c340",
   "metadata": {},
   "outputs": [],
   "source": [
    "pv_pc"
   ]
  },
  {
   "cell_type": "code",
   "execution_count": null,
   "id": "81ca6393",
   "metadata": {
    "scrolled": true
   },
   "outputs": [],
   "source": [
    "st_p"
   ]
  },
  {
   "cell_type": "code",
   "execution_count": null,
   "id": "053d52ed",
   "metadata": {},
   "outputs": [],
   "source": [
    "Pes = list(st_p.values())[0]\n",
    "Pes"
   ]
  },
  {
   "cell_type": "code",
   "execution_count": null,
   "id": "49b376ea",
   "metadata": {},
   "outputs": [],
   "source": []
  },
  {
   "cell_type": "code",
   "execution_count": null,
   "id": "63f4602a",
   "metadata": {},
   "outputs": [],
   "source": []
  },
  {
   "cell_type": "code",
   "execution_count": null,
   "id": "96abdd1a",
   "metadata": {},
   "outputs": [],
   "source": []
  },
  {
   "cell_type": "code",
   "execution_count": null,
   "id": "9c09ccd5",
   "metadata": {},
   "outputs": [],
   "source": []
  },
  {
   "cell_type": "code",
   "execution_count": null,
   "id": "1c9b5f7d",
   "metadata": {},
   "outputs": [],
   "source": [
    "flows_p"
   ]
  },
  {
   "cell_type": "code",
   "execution_count": null,
   "id": "50f190d6",
   "metadata": {},
   "outputs": [],
   "source": [
    "ld_q"
   ]
  },
  {
   "cell_type": "code",
   "execution_count": null,
   "id": "e29d64ef",
   "metadata": {},
   "outputs": [],
   "source": [
    "mt_q"
   ]
  },
  {
   "cell_type": "code",
   "execution_count": null,
   "id": "40835bf2",
   "metadata": {},
   "outputs": [],
   "source": [
    "st_q"
   ]
  },
  {
   "cell_type": "code",
   "execution_count": null,
   "id": "b7928882",
   "metadata": {},
   "outputs": [],
   "source": [
    "flows_q"
   ]
  },
  {
   "cell_type": "code",
   "execution_count": null,
   "id": "27ae56e4",
   "metadata": {},
   "outputs": [],
   "source": [
    "st_soc"
   ]
  },
  {
   "cell_type": "code",
   "execution_count": null,
   "id": "ebf217cc",
   "metadata": {},
   "outputs": [],
   "source": [
    "voltages"
   ]
  },
  {
   "cell_type": "code",
   "execution_count": null,
   "id": "48b3528f",
   "metadata": {},
   "outputs": [],
   "source": [
    "volts = np.array(list(voltages.values()))\n",
    "\n",
    "volts"
   ]
  },
  {
   "cell_type": "code",
   "execution_count": null,
   "id": "5c148f44",
   "metadata": {},
   "outputs": [],
   "source": [
    "vol = volts[:,0]\n",
    "vol.shape"
   ]
  },
  {
   "cell_type": "code",
   "execution_count": null,
   "id": "728e47e8",
   "metadata": {},
   "outputs": [],
   "source": [
    "for i in range(len(volts)):\n",
    "    plt.plot(volts[i])\n",
    "plt.show()"
   ]
  },
  {
   "cell_type": "code",
   "execution_count": null,
   "id": "60d7c43d",
   "metadata": {},
   "outputs": [],
   "source": []
  },
  {
   "cell_type": "code",
   "execution_count": null,
   "id": "52cd8bd5",
   "metadata": {},
   "outputs": [],
   "source": [
    "12*(62.11 * 5/60)"
   ]
  },
  {
   "cell_type": "code",
   "execution_count": null,
   "id": "2691a723",
   "metadata": {},
   "outputs": [],
   "source": [
    "800*0.9"
   ]
  },
  {
   "cell_type": "code",
   "execution_count": null,
   "id": "0c99e5ea",
   "metadata": {},
   "outputs": [],
   "source": [
    "(720-62.11)/800"
   ]
  },
  {
   "cell_type": "code",
   "execution_count": null,
   "id": "e0eb0d85",
   "metadata": {},
   "outputs": [],
   "source": [
    "st_p"
   ]
  },
  {
   "cell_type": "code",
   "execution_count": null,
   "id": "5487528c",
   "metadata": {},
   "outputs": [],
   "source": [
    "st_soc"
   ]
  },
  {
   "cell_type": "code",
   "execution_count": null,
   "id": "aba1a19f",
   "metadata": {},
   "outputs": [],
   "source": [
    "s0 = 0.90 - (((89.60118635576289)/(0.9*800))*5/60)\n",
    "s0"
   ]
  },
  {
   "cell_type": "code",
   "execution_count": null,
   "id": "b2c88aa2",
   "metadata": {},
   "outputs": [],
   "source": [
    "SOC_es = list(st_soc.values())[0]\n",
    "SOC_es "
   ]
  },
  {
   "cell_type": "code",
   "execution_count": null,
   "id": "2f4bfd6c",
   "metadata": {},
   "outputs": [],
   "source": [
    "Q_restored = np.array(list(ld_q.values()))\n",
    "Q_restored "
   ]
  },
  {
   "cell_type": "code",
   "execution_count": null,
   "id": "cb585e28",
   "metadata": {},
   "outputs": [],
   "source": [
    "Q_restored[:,0].shape"
   ]
  },
  {
   "cell_type": "code",
   "execution_count": null,
   "id": "d7a26d93",
   "metadata": {},
   "outputs": [],
   "source": [
    "model.load_set.pprint()"
   ]
  },
  {
   "cell_type": "code",
   "execution_count": null,
   "id": "76093c2e",
   "metadata": {},
   "outputs": [],
   "source": [
    "load_bus = [1, 2, 4, 5, 6, 8, 9, 10, 11]"
   ]
  },
  {
   "cell_type": "code",
   "execution_count": null,
   "id": "dbf4af22",
   "metadata": {},
   "outputs": [],
   "source": [
    "initial_active_restored_load = [0] * 13 \n",
    "initial_reactive_restored_load = [0] * 13\n",
    "        \n",
    "prior_active_restored_load = initial_active_restored_load\n",
    "prior_reactive_restored_load = initial_reactive_restored_load"
   ]
  },
  {
   "cell_type": "code",
   "execution_count": null,
   "id": "7a7ec539",
   "metadata": {},
   "outputs": [],
   "source": [
    "prior_active_restored_load "
   ]
  },
  {
   "cell_type": "code",
   "execution_count": null,
   "id": "e2f06f05",
   "metadata": {},
   "outputs": [],
   "source": [
    "x1 = []\n",
    "for l in load_bus:\n",
    "    x1.append(prior_active_restored_load[l])"
   ]
  },
  {
   "cell_type": "code",
   "execution_count": null,
   "id": "3f159140",
   "metadata": {},
   "outputs": [],
   "source": [
    "x1"
   ]
  },
  {
   "cell_type": "code",
   "execution_count": null,
   "id": "5f5d6833",
   "metadata": {},
   "outputs": [],
   "source": [
    "active_load_restored = P_restored[:,0]\n",
    "active_load_restored"
   ]
  },
  {
   "cell_type": "code",
   "execution_count": null,
   "id": "6c0474a5",
   "metadata": {},
   "outputs": [],
   "source": [
    "load_bus"
   ]
  },
  {
   "cell_type": "code",
   "execution_count": null,
   "id": "c517db93",
   "metadata": {},
   "outputs": [],
   "source": [
    "prior_active_restored_load"
   ]
  },
  {
   "cell_type": "code",
   "execution_count": null,
   "id": "4cbdeaf5",
   "metadata": {},
   "outputs": [],
   "source": [
    "for idx, b in enumerate(load_bus):\n",
    "    prior_active_restored_load[b] = active_load_restored[idx]"
   ]
  },
  {
   "cell_type": "code",
   "execution_count": null,
   "id": "7b32270f",
   "metadata": {},
   "outputs": [],
   "source": [
    "len(prior_active_restored_load)"
   ]
  },
  {
   "cell_type": "code",
   "execution_count": null,
   "id": "9d9a917e",
   "metadata": {},
   "outputs": [],
   "source": [
    "ld_p2 = []"
   ]
  },
  {
   "cell_type": "code",
   "execution_count": null,
   "id": "aead3e8b",
   "metadata": {},
   "outputs": [],
   "source": [
    "P_restored2 = np.array(list(ld_p2.values()))"
   ]
  },
  {
   "cell_type": "code",
   "execution_count": null,
   "id": "91ebfa4a",
   "metadata": {},
   "outputs": [],
   "source": []
  }
 ],
 "metadata": {
  "kernelspec": {
   "display_name": "Python 3",
   "language": "python",
   "name": "python3"
  },
  "language_info": {
   "codemirror_mode": {
    "name": "ipython",
    "version": 3
   },
   "file_extension": ".py",
   "mimetype": "text/x-python",
   "name": "python",
   "nbconvert_exporter": "python",
   "pygments_lexer": "ipython3",
   "version": "3.7.11"
  }
 },
 "nbformat": 4,
 "nbformat_minor": 5
}
