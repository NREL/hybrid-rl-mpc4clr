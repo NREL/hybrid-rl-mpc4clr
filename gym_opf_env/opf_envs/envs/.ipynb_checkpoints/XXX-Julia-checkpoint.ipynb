{
 "cells": [
  {
   "cell_type": "code",
   "execution_count": 1,
   "id": "d33173a6",
   "metadata": {},
   "outputs": [
    {
     "data": {
      "text/plain": [
       "load_case_data (generic function with 1 method)"
      ]
     },
     "execution_count": 1,
     "metadata": {},
     "output_type": "execute_result"
    }
   ],
   "source": [
    "include(\"data_handler_threephase.jl\") "
   ]
  },
  {
   "cell_type": "code",
   "execution_count": 2,
   "id": "0df31577",
   "metadata": {},
   "outputs": [
    {
     "data": {
      "text/plain": [
       "\"13bus\""
      ]
     },
     "execution_count": 2,
     "metadata": {},
     "output_type": "execute_result"
    }
   ],
   "source": [
    "distribution_system = \"13bus\""
   ]
  },
  {
   "cell_type": "code",
   "execution_count": 3,
   "id": "ddbc3f13",
   "metadata": {},
   "outputs": [
    {
     "name": "stderr",
     "output_type": "stream",
     "text": [
      "┌ Info: Reading Data\n",
      "└ @ Main /Users/aeseye/Desktop/AGM-Resilience-Project/RL/rl_reserve_policy/gym_opf_env/opf_envs/envs/data_handler_threephase.jl:145\n"
     ]
    },
    {
     "ename": "LoadError",
     "evalue": "ArgumentError: \"/Users/aeseye/Desktop/AGM-Resilience-Project/RL/rl_reserve_policy/gym_opf_env/opf_envs/gym_opf_env/opf_envs/envs/data/network_data/13bus/nodes.csv\" is not a valid file",
     "output_type": "error",
     "traceback": [
      "ArgumentError: \"/Users/aeseye/Desktop/AGM-Resilience-Project/RL/rl_reserve_policy/gym_opf_env/opf_envs/gym_opf_env/opf_envs/envs/data/network_data/13bus/nodes.csv\" is not a valid file",
      "",
      "Stacktrace:",
      " [1] Header at /Users/aeseye/.julia/packages/CSV/la2cd/src/header.jl:90 [inlined]",
      " [2] CSV.File(::String; header::Int64, normalizenames::Bool, datarow::Int64, skipto::Nothing, footerskip::Int64, transpose::Bool, comment::Nothing, use_mmap::Nothing, ignoreemptylines::Bool, select::Nothing, drop::Nothing, missingstrings::Array{String,1}, missingstring::String, delim::Nothing, ignorerepeated::Bool, quotechar::Char, openquotechar::Nothing, closequotechar::Nothing, escapechar::Char, dateformat::Nothing, dateformats::Nothing, decimal::UInt8, truestrings::Array{String,1}, falsestrings::Array{String,1}, type::Nothing, types::Nothing, typemap::Dict{Type,Type}, pool::Float64, lazystrings::Bool, strict::Bool, silencewarnings::Bool, debug::Bool, parsingdebug::Bool, kw::Base.Iterators.Pairs{Union{},Union{},Tuple{},NamedTuple{(),Tuple{}}}) at /Users/aeseye/.julia/packages/CSV/la2cd/src/file.jl:217",
      " [3] CSV.File(::String) at /Users/aeseye/.julia/packages/CSV/la2cd/src/file.jl:217",
      " [4] read(::String, ::Type{T} where T; copycols::Bool, kwargs::Base.Iterators.Pairs{Union{},Union{},Tuple{},NamedTuple{(),Tuple{}}}) at /Users/aeseye/.julia/packages/CSV/la2cd/src/CSV.jl:45",
      " [5] read at /Users/aeseye/.julia/packages/CSV/la2cd/src/CSV.jl:42 [inlined]",
      " [6] load_case_data(; datafile::String) at /Users/aeseye/Desktop/AGM-Resilience-Project/RL/rl_reserve_policy/gym_opf_env/opf_envs/envs/data_handler_threephase.jl:155",
      " [7] top-level scope at In[3]:1",
      " [8] include_string(::Function, ::Module, ::String, ::String) at ./loading.jl:1091"
     ]
    }
   ],
   "source": [
    "buses, lines, generators, windturbines, pvs, storages= load_case_data(datafile=distribution_system)"
   ]
  },
  {
   "cell_type": "code",
   "execution_count": null,
   "id": "4b95d4e0",
   "metadata": {},
   "outputs": [],
   "source": []
  },
  {
   "cell_type": "code",
   "execution_count": null,
   "id": "72b37bb2",
   "metadata": {},
   "outputs": [],
   "source": []
  },
  {
   "cell_type": "code",
   "execution_count": null,
   "id": "dafcb6e4",
   "metadata": {},
   "outputs": [],
   "source": []
  },
  {
   "cell_type": "code",
   "execution_count": null,
   "id": "c015b2d2",
   "metadata": {},
   "outputs": [],
   "source": []
  },
  {
   "cell_type": "code",
   "execution_count": null,
   "id": "50b2bff3",
   "metadata": {},
   "outputs": [],
   "source": []
  },
  {
   "cell_type": "code",
   "execution_count": null,
   "id": "04447847",
   "metadata": {},
   "outputs": [],
   "source": []
  },
  {
   "cell_type": "code",
   "execution_count": null,
   "id": "f72c76ac",
   "metadata": {},
   "outputs": [],
   "source": []
  },
  {
   "cell_type": "code",
   "execution_count": null,
   "id": "99fda7a6",
   "metadata": {},
   "outputs": [],
   "source": []
  },
  {
   "cell_type": "code",
   "execution_count": null,
   "id": "bf4f25c6",
   "metadata": {},
   "outputs": [],
   "source": []
  },
  {
   "cell_type": "code",
   "execution_count": null,
   "id": "8a4e5e75",
   "metadata": {},
   "outputs": [],
   "source": []
  },
  {
   "cell_type": "code",
   "execution_count": null,
   "id": "80044f44",
   "metadata": {},
   "outputs": [],
   "source": []
  },
  {
   "cell_type": "code",
   "execution_count": null,
   "id": "09f688ea",
   "metadata": {},
   "outputs": [],
   "source": []
  },
  {
   "cell_type": "code",
   "execution_count": null,
   "id": "6075c70c",
   "metadata": {},
   "outputs": [],
   "source": []
  },
  {
   "cell_type": "code",
   "execution_count": null,
   "id": "211d4e0b",
   "metadata": {},
   "outputs": [],
   "source": []
  },
  {
   "cell_type": "code",
   "execution_count": null,
   "id": "45728278",
   "metadata": {},
   "outputs": [],
   "source": []
  },
  {
   "cell_type": "code",
   "execution_count": null,
   "id": "fe520fb4",
   "metadata": {},
   "outputs": [],
   "source": []
  },
  {
   "cell_type": "code",
   "execution_count": null,
   "id": "d6fe6f73",
   "metadata": {},
   "outputs": [],
   "source": []
  }
 ],
 "metadata": {
  "kernelspec": {
   "display_name": "Julia 1.5.0",
   "language": "julia",
   "name": "julia-1.5"
  },
  "language_info": {
   "file_extension": ".jl",
   "mimetype": "application/julia",
   "name": "julia",
   "version": "1.5.0"
  }
 },
 "nbformat": 4,
 "nbformat_minor": 5
}
